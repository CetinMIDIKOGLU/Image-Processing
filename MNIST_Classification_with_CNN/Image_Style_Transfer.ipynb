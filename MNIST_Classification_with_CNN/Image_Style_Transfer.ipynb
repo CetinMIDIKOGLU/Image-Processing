{
 "cells": [
  {
   "cell_type": "code",
   "execution_count": 1,
   "id": "aed4bff9-694f-4b5a-90c4-ebdc19223e05",
   "metadata": {},
   "outputs": [],
   "source": [
    "import tensorflow as tf\n",
    "import tensorflow_hub as hub\n",
    "import numpy as np"
   ]
  },
  {
   "cell_type": "code",
   "execution_count": 3,
   "id": "1a6bd603-380f-405f-a944-76e008681651",
   "metadata": {},
   "outputs": [],
   "source": [
    "def load_image(image_path):\n",
    "    img = tf.io.read_file(image_path)\n",
    "    img = tf.image.decode_image(img, channels=3)\n",
    "    img = tf.image.convert_image_dtype(img, tf.float32)\n",
    "    img = img[tf.newaxis,:]\n",
    "\n",
    "    return img\n",
    "\n",
    "model = hub.load(\"https://tfhub.dev/google/magenta/arbitrary-image-stylization-v1-256/2\")"
   ]
  },
  {
   "cell_type": "code",
   "execution_count": 5,
   "id": "973332cb-030a-4da9-b418-afa58d8310f7",
   "metadata": {},
   "outputs": [],
   "source": [
    "img_input = load_image(\"./input_img.jpg\")\n",
    "img_style = load_image(\"./style_img.jpg\")\n",
    "\n",
    "img_transformed = model(img_input, img_style)[0]\n",
    "\n",
    "img_transformed = tf.keras.preprocessing.image.array_to_img(img_transformed[0])\n",
    "img_transformed.save('transformed_img.png')"
   ]
  },
  {
   "cell_type": "code",
   "execution_count": null,
   "id": "719a28db-de7c-472b-9665-bb5474bb7fe9",
   "metadata": {},
   "outputs": [],
   "source": []
  }
 ],
 "metadata": {
  "kernelspec": {
   "display_name": "env_bst",
   "language": "python",
   "name": "env_bst"
  },
  "language_info": {
   "codemirror_mode": {
    "name": "ipython",
    "version": 3
   },
   "file_extension": ".py",
   "mimetype": "text/x-python",
   "name": "python",
   "nbconvert_exporter": "python",
   "pygments_lexer": "ipython3",
   "version": "3.10.10"
  }
 },
 "nbformat": 4,
 "nbformat_minor": 5
}
